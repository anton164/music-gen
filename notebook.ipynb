{
 "cells": [
  {
   "cell_type": "code",
   "execution_count": 1,
   "metadata": {},
   "outputs": [
    {
     "name": "stdout",
     "output_type": "stream",
     "text": [
      "pygame 2.1.2 (SDL 2.0.18, Python 3.7.13)\n",
      "Hello from the pygame community. https://www.pygame.org/contribute.html\n",
      "Initialized. Device List:\n",
      "(b'CoreMIDI', b'IAC Driver Bus 1', 1, 0, 0)\n",
      "(b'CoreMIDI', b'Alesis Recital Pro ', 1, 0, 0)\n",
      "(b'CoreMIDI', b'IAC Driver Bus 1', 0, 1, 0)\n",
      "(b'CoreMIDI', b'Alesis Recital Pro ', 0, 1, 0)\n"
     ]
    }
   ],
   "source": [
    "%reload_ext autoreload\n",
    "%autoreload 2\n",
    "from midi_api import initialize_pygame\n",
    "import time, pygame.midi\n",
    "from musenet_api import decode_musenet, musenet_generate, encode_musenet\n",
    "\n",
    "initialize_pygame()"
   ]
  },
  {
   "cell_type": "markdown",
   "metadata": {},
   "source": [
    "## Interactive"
   ]
  },
  {
   "cell_type": "code",
   "execution_count": 2,
   "metadata": {},
   "outputs": [
    {
     "name": "stdout",
     "output_type": "stream",
     "text": [
      "Initialized. Device List:\n",
      "(b'CoreMIDI', b'IAC Driver Bus 1', 1, 0, 0)\n",
      "(b'CoreMIDI', b'Alesis Recital Pro ', 1, 0, 0)\n",
      "(b'CoreMIDI', b'IAC Driver Bus 1', 0, 1, 0)\n",
      "(b'CoreMIDI', b'Alesis Recital Pro ', 0, 1, 0)\n",
      "using input_id :1:\n",
      "8554\n",
      "Time is up\n",
      "Recorded 29\n"
     ]
    }
   ],
   "source": [
    "# Get input\n",
    "from midi_api import input_main \n",
    "initialize_pygame()\n",
    "midi_notes = input_main(1, max_time=7500)\n",
    "print(\"Recorded\", len(midi_notes))"
   ]
  },
  {
   "cell_type": "code",
   "execution_count": 3,
   "metadata": {},
   "outputs": [],
   "source": [
    "# Get response\n",
    "res = musenet_generate(\n",
    "    encode_musenet(midi_notes),\n",
    "    length=60\n",
    ")\n",
    "completions = res.json()[\"completions\"]"
   ]
  },
  {
   "cell_type": "code",
   "execution_count": 7,
   "metadata": {},
   "outputs": [],
   "source": [
    "from musenet_api import play_musenet_response\n",
    "from midi_api import setup_players\n",
    "\n",
    "play_musenet_response(\n",
    "    setup_players(),\n",
    "    completions, \n",
    "    midi_notes,\n",
    "    play_input=True\n",
    ")"
   ]
  },
  {
   "cell_type": "markdown",
   "metadata": {},
   "source": [
    "## Loop"
   ]
  },
  {
   "cell_type": "code",
   "execution_count": 8,
   "metadata": {},
   "outputs": [
    {
     "name": "stdout",
     "output_type": "stream",
     "text": [
      "Initialized. Device List:\n",
      "(b'CoreMIDI', b'IAC Driver Bus 1', 1, 0, 0)\n",
      "(b'CoreMIDI', b'Alesis Recital Pro ', 1, 0, 0)\n",
      "(b'CoreMIDI', b'IAC Driver Bus 1', 0, 1, 0)\n",
      "(b'CoreMIDI', b'Alesis Recital Pro ', 0, 1, 0)\n",
      "GETTING INPUT\n",
      "using input_id :1:\n",
      "145420\n",
      "Time is up\n",
      "Getting reponse...\n",
      "Took 8.53s\n",
      "Initialized. Device List:\n",
      "(b'CoreMIDI', b'IAC Driver Bus 1', 1, 0, 0)\n",
      "(b'CoreMIDI', b'Alesis Recital Pro ', 1, 0, 0)\n",
      "(b'CoreMIDI', b'IAC Driver Bus 1', 0, 1, 0)\n",
      "(b'CoreMIDI', b'Alesis Recital Pro ', 0, 1, 0)\n",
      "GETTING INPUT\n",
      "using input_id :1:\n",
      "173048\n",
      "Time is up\n",
      "Getting reponse...\n",
      "Took 8.09s\n",
      "Initialized. Device List:\n",
      "(b'CoreMIDI', b'IAC Driver Bus 1', 1, 0, 0)\n",
      "(b'CoreMIDI', b'Alesis Recital Pro ', 1, 0, 0)\n",
      "(b'CoreMIDI', b'IAC Driver Bus 1', 0, 1, 0)\n",
      "(b'CoreMIDI', b'Alesis Recital Pro ', 0, 1, 0)\n",
      "GETTING INPUT\n",
      "using input_id :1:\n",
      "197877\n"
     ]
    },
    {
     "ename": "KeyboardInterrupt",
     "evalue": "",
     "output_type": "error",
     "traceback": [
      "\u001b[0;31m---------------------------------------------------------------------------\u001b[0m",
      "\u001b[0;31mKeyboardInterrupt\u001b[0m                         Traceback (most recent call last)",
      "\u001b[0;32m/var/folders/yb/l4pdzll51k946vtlt23kftkh0000gn/T/ipykernel_66323/2869238969.py\u001b[0m in \u001b[0;36m<module>\u001b[0;34m\u001b[0m\n\u001b[1;32m      2\u001b[0m play_loop(\n\u001b[1;32m      3\u001b[0m     \u001b[0minput_time\u001b[0m\u001b[0;34m=\u001b[0m\u001b[0;36m7500\u001b[0m\u001b[0;34m,\u001b[0m\u001b[0;34m\u001b[0m\u001b[0;34m\u001b[0m\u001b[0m\n\u001b[0;32m----> 4\u001b[0;31m     \u001b[0mgeneration_length\u001b[0m\u001b[0;34m=\u001b[0m\u001b[0;36m70\u001b[0m\u001b[0;34m\u001b[0m\u001b[0;34m\u001b[0m\u001b[0m\n\u001b[0m\u001b[1;32m      5\u001b[0m )\n",
      "\u001b[0;32m~/git/music-gen/main.py\u001b[0m in \u001b[0;36mplay_loop\u001b[0;34m(input_time, generation_length)\u001b[0m\n\u001b[1;32m     21\u001b[0m         \u001b[0minitialize_pygame\u001b[0m\u001b[0;34m(\u001b[0m\u001b[0;34m)\u001b[0m\u001b[0;34m\u001b[0m\u001b[0;34m\u001b[0m\u001b[0m\n\u001b[1;32m     22\u001b[0m         \u001b[0mprint\u001b[0m\u001b[0;34m(\u001b[0m\u001b[0;34m\"GETTING INPUT\"\u001b[0m\u001b[0;34m)\u001b[0m\u001b[0;34m\u001b[0m\u001b[0;34m\u001b[0m\u001b[0m\n\u001b[0;32m---> 23\u001b[0;31m         \u001b[0mmidi_notes\u001b[0m \u001b[0;34m=\u001b[0m \u001b[0minput_main\u001b[0m\u001b[0;34m(\u001b[0m\u001b[0;36m1\u001b[0m\u001b[0;34m,\u001b[0m \u001b[0mmax_time\u001b[0m\u001b[0;34m=\u001b[0m\u001b[0minput_time\u001b[0m\u001b[0;34m)\u001b[0m\u001b[0;34m\u001b[0m\u001b[0;34m\u001b[0m\u001b[0m\n\u001b[0m\u001b[1;32m     24\u001b[0m         \u001b[0mplayers\u001b[0m \u001b[0;34m=\u001b[0m \u001b[0msetup_players\u001b[0m\u001b[0;34m(\u001b[0m\u001b[0;34m)\u001b[0m\u001b[0;34m\u001b[0m\u001b[0;34m\u001b[0m\u001b[0m\n\u001b[1;32m     25\u001b[0m         \u001b[0mreset_all_notes\u001b[0m\u001b[0;34m(\u001b[0m\u001b[0mplayers\u001b[0m\u001b[0;34m)\u001b[0m\u001b[0;34m\u001b[0m\u001b[0;34m\u001b[0m\u001b[0m\n",
      "\u001b[0;32m~/git/music-gen/midi_api.py\u001b[0m in \u001b[0;36minput_main\u001b[0;34m(device_id, max_time)\u001b[0m\n\u001b[1;32m     65\u001b[0m     \u001b[0mprint\u001b[0m\u001b[0;34m(\u001b[0m\u001b[0mstart_time\u001b[0m\u001b[0;34m)\u001b[0m\u001b[0;34m\u001b[0m\u001b[0;34m\u001b[0m\u001b[0m\n\u001b[1;32m     66\u001b[0m     \u001b[0;32mwhile\u001b[0m \u001b[0mgoing\u001b[0m\u001b[0;34m:\u001b[0m\u001b[0;34m\u001b[0m\u001b[0;34m\u001b[0m\u001b[0m\n\u001b[0;32m---> 67\u001b[0;31m         \u001b[0mevents\u001b[0m \u001b[0;34m=\u001b[0m \u001b[0mevent_get\u001b[0m\u001b[0;34m(\u001b[0m\u001b[0;34m)\u001b[0m\u001b[0;34m\u001b[0m\u001b[0;34m\u001b[0m\u001b[0m\n\u001b[0m\u001b[1;32m     68\u001b[0m         \u001b[0;32mfor\u001b[0m \u001b[0me\u001b[0m \u001b[0;32min\u001b[0m \u001b[0mevents\u001b[0m\u001b[0;34m:\u001b[0m\u001b[0;34m\u001b[0m\u001b[0;34m\u001b[0m\u001b[0m\n\u001b[1;32m     69\u001b[0m             \u001b[0;32mif\u001b[0m \u001b[0me\u001b[0m\u001b[0;34m.\u001b[0m\u001b[0mtype\u001b[0m \u001b[0;32min\u001b[0m \u001b[0;34m[\u001b[0m\u001b[0mpg\u001b[0m\u001b[0;34m.\u001b[0m\u001b[0mQUIT\u001b[0m\u001b[0;34m]\u001b[0m\u001b[0;34m:\u001b[0m\u001b[0;34m\u001b[0m\u001b[0;34m\u001b[0m\u001b[0m\n",
      "\u001b[0;32m/usr/local/anaconda3/envs/technopoetics/lib/python3.7/site-packages/pygame/fastevent.py\u001b[0m in \u001b[0;36mget\u001b[0;34m()\u001b[0m\n\u001b[1;32m     78\u001b[0m     \"\"\"\n\u001b[1;32m     79\u001b[0m     \u001b[0m_ft_init_check\u001b[0m\u001b[0;34m(\u001b[0m\u001b[0;34m)\u001b[0m\u001b[0;34m\u001b[0m\u001b[0;34m\u001b[0m\u001b[0m\n\u001b[0;32m---> 80\u001b[0;31m     \u001b[0;32mreturn\u001b[0m \u001b[0mpygame\u001b[0m\u001b[0;34m.\u001b[0m\u001b[0mevent\u001b[0m\u001b[0;34m.\u001b[0m\u001b[0mget\u001b[0m\u001b[0;34m(\u001b[0m\u001b[0;34m)\u001b[0m\u001b[0;34m\u001b[0m\u001b[0;34m\u001b[0m\u001b[0m\n\u001b[0m\u001b[1;32m     81\u001b[0m \u001b[0;34m\u001b[0m\u001b[0m\n\u001b[1;32m     82\u001b[0m \u001b[0;34m\u001b[0m\u001b[0m\n",
      "\u001b[0;31mKeyboardInterrupt\u001b[0m: "
     ]
    }
   ],
   "source": [
    "from main import play_loop\n",
    "play_loop(\n",
    "    input_time=7500,\n",
    "    generation_length=70\n",
    ")"
   ]
  }
 ],
 "metadata": {
  "interpreter": {
   "hash": "9f9e72f16a2d74f55689ecf3eaddc05feff35a264fd0ab775d1ef0693720c150"
  },
  "kernelspec": {
   "display_name": "Python 3.7.13 ('technopoetics')",
   "language": "python",
   "name": "python3"
  },
  "language_info": {
   "codemirror_mode": {
    "name": "ipython",
    "version": 3
   },
   "file_extension": ".py",
   "mimetype": "text/x-python",
   "name": "python",
   "nbconvert_exporter": "python",
   "pygments_lexer": "ipython3",
   "version": "3.7.13"
  },
  "orig_nbformat": 4
 },
 "nbformat": 4,
 "nbformat_minor": 2
}
